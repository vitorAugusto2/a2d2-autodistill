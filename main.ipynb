{
 "cells": [
  {
   "cell_type": "code",
   "execution_count": null,
   "metadata": {
    "ExecuteTime": {
     "end_time": "2024-04-15T17:55:10.938307Z",
     "start_time": "2024-04-15T17:55:10.832098Z"
    },
    "colab": {
     "base_uri": "https://localhost:8080/"
    },
    "executionInfo": {
     "elapsed": 5,
     "status": "ok",
     "timestamp": 1713192799117,
     "user": {
      "displayName": "Vitor Augusto",
      "userId": "14130268794583623675"
     },
     "user_tz": 180
    },
    "id": "AGMP--8CxqR3",
    "outputId": "8fbe0e3d-8efd-4b6e-f810-3e0f4bd0bf96"
   },
   "outputs": [],
   "source": [
    "!nvidia-smi"
   ]
  },
  {
   "cell_type": "markdown",
   "metadata": {
    "id": "R1m3pvTeVLVl"
   },
   "source": [
    "# 🧪 PIP INSTALL\n",
    "Instalar pacotes: Autodistill, GroundedDINO, YOLOv8, Supervision e Roboflow\n"
   ]
  },
  {
   "cell_type": "code",
   "execution_count": null,
   "metadata": {
    "ExecuteTime": {
     "end_time": "2024-04-15T17:55:24.520276Z",
     "start_time": "2024-04-15T17:55:23.701225Z"
    },
    "colab": {
     "base_uri": "https://localhost:8080/"
    },
    "executionInfo": {
     "elapsed": 84527,
     "status": "ok",
     "timestamp": 1713192883641,
     "user": {
      "displayName": "Vitor Augusto",
      "userId": "14130268794583623675"
     },
     "user_tz": 180
    },
    "id": "eyNoxNFGMcFa",
    "outputId": "f104eb62-5410-4cec-a675-c1da6b375a8b"
   },
   "outputs": [],
   "source": [
    "%pip install -q\\\n",
    "autodistill \\\n",
    "autodistill-grounding-dino \\\n",
    "autodistill-yolov8 \\\n",
    "supervision==0.9.0 \\\n",
    "roboflow "
   ]
  },
  {
   "cell_type": "markdown",
   "metadata": {
    "id": "tNz69EehVNpw"
   },
   "source": [
    "# 🗂️ IMPORT\n",
    "**NOTE**: Bibliotecas principais como autodistill (CaptionOntology, GroundedSAM e YOLOv8) para lidar com rotulagem automatica e detecção de objetos\n"
   ]
  },
  {
   "cell_type": "code",
   "execution_count": null,
   "metadata": {
    "ExecuteTime": {
     "end_time": "2024-04-15T17:55:44.800964Z",
     "start_time": "2024-04-15T17:55:36.039441Z"
    },
    "executionInfo": {
     "elapsed": 9936,
     "status": "ok",
     "timestamp": 1713192893574,
     "user": {
      "displayName": "Vitor Augusto",
      "userId": "14130268794583623675"
     },
     "user_tz": 180
    },
    "id": "_UgPrQB-L8kz"
   },
   "outputs": [],
   "source": [
    "import os\n",
    "import cv2\n",
    "import supervision as sv\n",
    "from autodistill.detection import CaptionOntology\n",
    "from autodistill_grounding_dino import GroundingDINO\n",
    "from IPython.display import Image"
   ]
  },
  {
   "cell_type": "markdown",
   "metadata": {
    "id": "5aQS__bUMniD"
   },
   "source": [
    "# 🖼️ PREPARANDO DADOS"
   ]
  },
  {
   "cell_type": "markdown",
   "metadata": {
    "id": "IGe6kzzwiYcr"
   },
   "source": [
    "### Carregando imagens"
   ]
  },
  {
   "cell_type": "markdown",
   "metadata": {
    "id": "06mAo0X6hUnn"
   },
   "source": [
    "Cria um diretório chamado `images` no dict `HOME`, para carregar as imagens e vizualizando"
   ]
  },
  {
   "cell_type": "code",
   "execution_count": null,
   "metadata": {
    "ExecuteTime": {
     "end_time": "2024-04-15T17:55:44.805215Z",
     "start_time": "2024-04-15T17:55:44.801968Z"
    },
    "colab": {
     "base_uri": "https://localhost:8080/"
    },
    "executionInfo": {
     "elapsed": 14,
     "status": "ok",
     "timestamp": 1713192893575,
     "user": {
      "displayName": "Vitor Augusto",
      "userId": "14130268794583623675"
     },
     "user_tz": 180
    },
    "id": "u910UZMmNb2N",
    "outputId": "134a3e86-d8fa-460a-88a8-ac0d92a475d8"
   },
   "outputs": [],
   "source": [
    "HOME = os.getcwd()\n",
    "print(HOME)"
   ]
  },
  {
   "cell_type": "markdown",
   "metadata": {
    "id": "HSJmW7GeiOVz"
   },
   "source": [
    "### Exibir amostra de imagem não rotulada"
   ]
  },
  {
   "cell_type": "code",
   "execution_count": null,
   "metadata": {
    "ExecuteTime": {
     "end_time": "2024-04-15T17:55:44.811395Z",
     "start_time": "2024-04-15T17:55:44.806219Z"
    },
    "colab": {
     "base_uri": "https://localhost:8080/"
    },
    "executionInfo": {
     "elapsed": 388,
     "status": "ok",
     "timestamp": 1713193205738,
     "user": {
      "displayName": "Vitor Augusto",
      "userId": "14130268794583623675"
     },
     "user_tz": 180
    },
    "id": "l_XhXOkfVx36",
    "outputId": "ecf54ca5-0d4c-44c0-f92b-bf55e5d33144"
   },
   "outputs": [],
   "source": [
    "IMAGE_DIR_PATH = f\"{HOME}/images\"    # diretorio de imagens \n",
    "DATASET_DIR_PATH = f\"{HOME}/dataset\" # diretorio de treinamento do dataset\n",
    "\n",
    "image_paths = sv.list_files_with_extensions(\n",
    "    directory=IMAGE_DIR_PATH,\n",
    "    extensions=[\"png\"])\n",
    "\n",
    "print(f\"Quantidades de imagens: {len(image_paths)}\")"
   ]
  },
  {
   "cell_type": "code",
   "execution_count": null,
   "metadata": {
    "ExecuteTime": {
     "end_time": "2024-04-15T17:55:47.752665Z",
     "start_time": "2024-04-15T17:55:44.812400Z"
    },
    "colab": {
     "base_uri": "https://localhost:8080/",
     "height": 1000
    },
    "executionInfo": {
     "elapsed": 8689,
     "status": "ok",
     "timestamp": 1713193215995,
     "user": {
      "displayName": "Vitor Augusto",
      "userId": "14130268794583623675"
     },
     "user_tz": 180
    },
    "id": "23O021NzVycF",
    "outputId": "c60bacf1-4b1a-4896-d27c-3bbbb4a55e6b"
   },
   "outputs": [],
   "source": [
    "SAMPLE_SIZE = 16\n",
    "SAMPLE_GRID_SIZE = (4, 4)\n",
    "SAMPLE_PLOT_SIZE = (16, 16)\n",
    "\n",
    "titles = [\n",
    "    image_path.stem\n",
    "    for image_path\n",
    "    in image_paths[:SAMPLE_SIZE]]\n",
    "images = [\n",
    "    cv2.imread(str(image_path))\n",
    "    for image_path\n",
    "    in image_paths[:SAMPLE_SIZE]]\n",
    "\n",
    "sv.plot_images_grid(images=images, titles=titles, grid_size=SAMPLE_GRID_SIZE, size=SAMPLE_PLOT_SIZE)"
   ]
  },
  {
   "cell_type": "markdown",
   "metadata": {
    "id": "UFafQRbzWw5f"
   },
   "source": [
    "# 🪄 AUTODISTILL: ROTULO AUTOMATICO"
   ]
  },
  {
   "cell_type": "markdown",
   "metadata": {
    "id": "70PFxofdjUkJ"
   },
   "source": [
    "### Definir ontologia\n",
    "\n",
    "**Ontologia** - uma Ontologia define como seu Modelo Base é solicitado, o que seu Conjunto de Dados descreverá e o que seu Modelo Alvo irá prever. Uma ontologia simples é a CaptionOntology que solicita um modelo base com legendas de texto e as mapeia para nomes de classes."
   ]
  },
  {
   "cell_type": "code",
   "execution_count": null,
   "metadata": {
    "ExecuteTime": {
     "end_time": "2024-04-15T17:55:47.757084Z",
     "start_time": "2024-04-15T17:55:47.752665Z"
    },
    "executionInfo": {
     "elapsed": 235,
     "status": "ok",
     "timestamp": 1713193247447,
     "user": {
      "displayName": "Vitor Augusto",
      "userId": "14130268794583623675"
     },
     "user_tz": 180
    },
    "id": "ij_VIC7sW5X1"
   },
   "outputs": [],
   "source": [
    "\"\"\"\n",
    "  Ontology: como o modelo base é solicitado\n",
    "  Descreve o que voce realmente ve no conjunto de dados e no que deseja treinar\n",
    "  seu modelo destino\n",
    "\n",
    "  Lancar os prompts e classes para gerar as mascaras de segmentacao\n",
    "    -> (prompt : class)\n",
    "\"\"\"\n",
    "\n",
    "ontology=CaptionOntology({\n",
    "  \"Car\" : \"Car\",\n",
    "  \"Bicycle\" : \"Bicycle\",\n",
    "  \"Pedestrian\": \"Pedestrian\",\n",
    "  \"Truck\": \"Truck\",\n",
    "  \"Traffic sign\" : \"Traffic sign\"\n",
    "})"
   ]
  },
  {
   "cell_type": "markdown",
   "metadata": {
    "id": "-vGpDutTkUTY"
   },
   "source": [
    "### Iniciar modelo base e rótulo automático\n",
    "\n",
    "**Ontologia** - define como seu Modelo Base é solicitado, o que seu Conjunto de Dados descreverá e o que seu Modelo Alvo irá prever. Uma ontologia simples é aquela CaptionOntologyque solicita um modelo base com legendas de texto e os mapeia para nomes de classes.\n",
    "- Uma ontologia em Computação é um modelo de dados que representa um conjunto de conceitos dentro de um domínio e os relacionamentos entre estes."
   ]
  },
  {
   "cell_type": "code",
   "execution_count": null,
   "metadata": {
    "ExecuteTime": {
     "end_time": "2024-04-15T17:56:26.203653Z",
     "start_time": "2024-04-15T17:55:47.758089Z"
    },
    "colab": {
     "base_uri": "https://localhost:8080/",
     "height": 492,
     "referenced_widgets": [
      "4fe169ab323c47c582101d016619c3a9",
      "de34130635814e97bc87fe600bd5d2ff",
      "24ae593dbd6240c7b41959f2e9b1bc8e",
      "785f1c4f933845e882f1f05b426e6b3c",
      "99b9f4a9c29b4e62a8d7beec484fff9d",
      "2d1ff643ee5c44138ffbf8b5c90fbbb0",
      "9b6ad4c56b624806913813241ec3059c",
      "730b3ed7ece5479ea969397e08f86fa2",
      "7d0bf154e4244a7188d970a244185141",
      "e23799da195e42c481e08a7d12e58250",
      "f2d02e06cca84366b3cc257c9770b328",
      "4b7a592a814442bdaae3d289b294cce7",
      "74260287dbbf4e2890dd3444fca3ccf2",
      "55e97e1d980e4553b0f2c31756a5df26",
      "d2e15eb452f540d9978a44904d711f28",
      "8425e159d85c47a7abbee14b8b14e4df",
      "ddc2149cf2524c9a948a5900b20d0745",
      "88791bcbb4f74903af02187eaa43ef0a",
      "205530b0954d4477a774504a729b920d",
      "3e596f18d03141938082ee02786c1e46",
      "5ed76cc6226a4343af1fa6001695130b",
      "7ccd8f00c8524819bdce62bf998ce0fe",
      "592f923e7d7d4dd49a119506219a1b95",
      "167aa75d354b40919e5412a6ea28802d",
      "5490e0aeb93f42b88a16541c45a909c5",
      "ace36a0a18984905a7bf9d961a948746",
      "f0e8efca48bb4254b4696de89d3f2120",
      "8205956931f94efeb61e71083f95fc46",
      "781366c0bb8e4de1b76ca7c22516ce37",
      "e84171064af5468aaa8deaca464c6511",
      "110328c5f39d478e857d078093b3a456",
      "699f0bbadcb0469081badfa451eaa6d6",
      "307acf7b191144a98b313cad6bc3870e",
      "df8ce1f297f24fadac85795e3b00bdc2",
      "7d2e0c8478b24ade8a333e24e877cf5c",
      "d9c495382ad341438ae43f40b3d9e820",
      "7587358af6f949f980a535ba21e39447",
      "13dc1b428c934b698c050e482221928a",
      "8d148ae63b814b2586d5c31d79730502",
      "b0fd68156052405ea4fbe409b3cd3f10",
      "c01e5e1ef63a437ba06f8b9d01889636",
      "e149ed7f6e144c1f86b018966e68176a",
      "a870f013197945d08f06e9ae0196f324",
      "c75b7bfac2664a8cae4dc3343253e55e",
      "dc0a367d60d84b39b4d778a619ac78c6",
      "a1e4ab565e6b425fb21b3f214b464d54",
      "939d7a038c71419495ce67b9f51a1b87",
      "30fe1877e8de4ec7a13f065ed3c0eaf2",
      "e42b916c5b78498aa0a953098f4cd4b0",
      "92ed5516768f4d3690f5af198611df07",
      "f8203ca86eea4c4f974eb6152952f2ae",
      "7e393fb21d8a4f82b837af4f2eb24ed8",
      "077f82669f52439aa41ac1a0a81262e4",
      "555396de6f4f48229f7dd53cbbeb666a",
      "d1ac846b04f24602b3ef7c76eb9ca570"
     ]
    },
    "executionInfo": {
     "elapsed": 338976,
     "status": "ok",
     "timestamp": 1713193591537,
     "user": {
      "displayName": "Vitor Augusto",
      "userId": "14130268794583623675"
     },
     "user_tz": 180
    },
    "id": "lVRSJ4HdXDGr",
    "outputId": "5b5bced9-4b54-449f-ab5d-ddc78d616921"
   },
   "outputs": [],
   "source": [
    "# Modelo base é iniciado por ontology\n",
    "base_model = GroundingDINO(ontology=ontology)   # modelo base: GroundingDINO\n",
    "dataset = base_model.label(\n",
    "    input_folder=IMAGE_DIR_PATH,                # entrada de dados\n",
    "    extension=\".png\",                           # extensao da imagem .png\n",
    "    output_folder=DATASET_DIR_PATH)             # armazena a saida dos dados rotulados"
   ]
  },
  {
   "cell_type": "markdown",
   "metadata": {
    "id": "cao6J8oqk9SY"
   },
   "source": [
    "### Exibir amostra do conjunto de dados\n",
    "\n",
    "**Conjunto de dados/dataset** - dados rotulados automaticamente que pode ser usado para treinar um modelo de destino, como por exemplo YOLOv8. É a saída gerada por um Modelo Base."
   ]
  },
  {
   "cell_type": "code",
   "execution_count": null,
   "metadata": {
    "ExecuteTime": {
     "end_time": "2024-04-15T17:56:26.208426Z",
     "start_time": "2024-04-15T17:56:26.204168Z"
    },
    "executionInfo": {
     "elapsed": 241,
     "status": "ok",
     "timestamp": 1713193599109,
     "user": {
      "displayName": "Vitor Augusto",
      "userId": "14130268794583623675"
     },
     "user_tz": 180
    },
    "id": "7ylSE1yuXMOG"
   },
   "outputs": [],
   "source": [
    "ANNOTATIONS_DIRECTORY_PATH = f\"{HOME}/dataset/train/labels\" # dados de rotulagem das imagens treinadas\n",
    "IMAGES_DIRECTORY_PATH = f\"{HOME}/dataset/train/images\"      # imagens de treino rotuladas\n",
    "DATA_YAML_PATH = f\"{HOME}/dataset/data.yaml\"                # arquivo formato YOLO.yaml"
   ]
  },
  {
   "cell_type": "markdown",
   "metadata": {
    "id": "Hg3s2LY3mZjO"
   },
   "source": [
    "**NOTA**: a quantidade de imagens total é dividida em `train` e `valid`"
   ]
  },
  {
   "cell_type": "code",
   "execution_count": null,
   "metadata": {
    "ExecuteTime": {
     "end_time": "2024-04-15T17:56:26.438639Z",
     "start_time": "2024-04-15T17:56:26.209433Z"
    },
    "colab": {
     "base_uri": "https://localhost:8080/"
    },
    "executionInfo": {
     "elapsed": 2775,
     "status": "ok",
     "timestamp": 1713193602721,
     "user": {
      "displayName": "Vitor Augusto",
      "userId": "14130268794583623675"
     },
     "user_tz": 180
    },
    "id": "AlB29NoQXSp1",
    "outputId": "e013f145-9156-45e2-8f36-6846878e7011"
   },
   "outputs": [],
   "source": [
    "dataset = sv.DetectionDataset.from_yolo(\n",
    "    images_directory_path=IMAGES_DIRECTORY_PATH,\n",
    "    annotations_directory_path=ANNOTATIONS_DIRECTORY_PATH,\n",
    "    data_yaml_path=DATA_YAML_PATH)\n",
    "\n",
    "print(f\"Quantidade de imagens de treinamento: {len(dataset)}\") "
   ]
  },
  {
   "cell_type": "code",
   "execution_count": null,
   "metadata": {
    "ExecuteTime": {
     "end_time": "2024-04-15T17:56:28.144317Z",
     "start_time": "2024-04-15T17:56:26.439644Z"
    },
    "colab": {
     "base_uri": "https://localhost:8080/",
     "height": 1000,
     "output_embedded_package_id": "13artkD-i_kz6Ue0UeQbTxkk7iFDkjP2y"
    },
    "executionInfo": {
     "elapsed": 7774,
     "status": "ok",
     "timestamp": 1713193610494,
     "user": {
      "displayName": "Vitor Augusto",
      "userId": "14130268794583623675"
     },
     "user_tz": 180
    },
    "id": "lq1J-652XTqi",
    "outputId": "c9e40ef9-2454-48e6-d05e-53a01699cfc0"
   },
   "outputs": [],
   "source": [
    "\"\"\"\n",
    "    Exemplos de imagens; Loop for em execucao com todos os parametros que criamessa imagens com as caixas delimitadoras; \n",
    "    e tambem dados demograficos para tracar nossa grade de imagens.\n",
    "\"\"\"\n",
    "\n",
    "SAMPLE_SIZE = 16\n",
    "SAMPLE_GRID_SIZE = (4, 4)\n",
    "SAMPLE_PLOT_SIZE = (16, 16)\n",
    "\n",
    "image_names = list(dataset.images.keys())[:SAMPLE_SIZE]\n",
    "\n",
    "mask_annotator = sv.MaskAnnotator()\n",
    "box_annotator = sv.BoxAnnotator()\n",
    "\n",
    "images = []\n",
    "for image_name in image_names:\n",
    "    image = dataset.images[image_name]\n",
    "    annotations = dataset.annotations[image_name]\n",
    "    labels = [\n",
    "        dataset.classes[class_id]\n",
    "        for class_id\n",
    "        in annotations.class_id]\n",
    "    annotates_image = mask_annotator.annotate(\n",
    "        scene=image.copy(),\n",
    "        detections=annotations)\n",
    "    annotates_image = box_annotator.annotate(\n",
    "        scene=annotates_image,\n",
    "        detections=annotations,\n",
    "        labels=labels)\n",
    "    images.append(annotates_image)\n",
    "\n",
    "sv.plot_images_grid(\n",
    "    images=images,\n",
    "    titles=image_names,\n",
    "    grid_size=SAMPLE_GRID_SIZE,\n",
    "    size=SAMPLE_PLOT_SIZE)"
   ]
  },
  {
   "cell_type": "markdown",
   "metadata": {
    "id": "qxHrdgXNXXui"
   },
   "source": [
    "# 🚘YOLOV8\n"
   ]
  },
  {
   "cell_type": "markdown",
   "metadata": {
    "id": "XGpMV-9QoLWY"
   },
   "source": [
    "### Treinamento do modelo\n",
    "**Modelo de destino** – é um modelo supervisionado que consome um conjunto de dados e gera um modelo destilado que está pronto para implantação. Os modelos de destino geralmente são pequenos, rápidos e ajustados para executar muito bem uma tarefa específica (mas não generalizam muito além das informações descritas em seu conjunto de dados)."
   ]
  },
  {
   "cell_type": "markdown",
   "metadata": {
    "id": "WW_E3M5wnK2o"
   },
   "source": [
    "**NOTA**: A interface de linha de comando YOLO (CLI) permite comandos simples de linha única sem a necessidade de um ambiente Python. CLI não requer personalização ou código Python . Podes simplesmente executar todas as tarefas a partir do terminal com o comando yolo comanda.\n",
    "\n",
    "Ultralytics yolo utiliza a seguinte sintaxe:\n",
    "```python\n",
    "  yolo TASK MODE ARGS\n",
    "\n",
    "  Where   TASK (optional) is one of [detect, segment, classify]\n",
    "          MODE (required) is one of [train, val, predict, export, track]\n",
    "          ARGS (optional) are any number of custom 'arg=value' pairs like 'imgsz=320' that override defaults.\n",
    "```"
   ]
  },
  {
   "cell_type": "code",
   "execution_count": null,
   "metadata": {
    "ExecuteTime": {
     "end_time": "2024-04-15T17:57:03.054368Z",
     "start_time": "2024-04-15T17:56:49.272089Z"
    },
    "colab": {
     "base_uri": "https://localhost:8080/"
    },
    "executionInfo": {
     "elapsed": 257806,
     "status": "ok",
     "timestamp": 1713195513320,
     "user": {
      "displayName": "Vitor Augusto",
      "userId": "14130268794583623675"
     },
     "user_tz": 180
    },
    "id": "hvyYqLPUy5uC",
    "outputId": "9002f067-a1e1-49f8-9798-f59e229dc1fd"
   },
   "outputs": [],
   "source": [
    "%cd {HOME}\n",
    "\n",
    "# Lembre-se: modificar `model`, `epochs`, `batch` e output `name` \n",
    "!yolo \\\n",
    "task=detect \\\n",
    "mode=train \\\n",
    "model=yolov8n.pt \\                      \n",
    "data={DATASET_DIR_PATH}/data.yaml \\\n",
    "epochs=5 \\\n",
    "imgsz=640 \\\n",
    "batch=2 \\\n",
    "name=<testx/model_epochs_imagens_mode>"
   ]
  },
  {
   "cell_type": "markdown",
   "metadata": {
    "id": "xJOj-ViuxqSZ"
   },
   "source": [
    "### Validando o modelo de treinamento\n",
    "Fornece um conjunto robusto de ferramentas e métricas para avaliar o desempenho dos teus modelos de deteção de objectos\n",
    "- Precisão e Ajuste de hiperparâmetros\n",
    "\n",
    "**NOTA**: Os arquivos de treinamento foram gerados e armazenados no diretorio `runs`."
   ]
  },
  {
   "cell_type": "code",
   "execution_count": null,
   "metadata": {
    "colab": {
     "base_uri": "https://localhost:8080/"
    },
    "executionInfo": {
     "elapsed": 18358,
     "status": "ok",
     "timestamp": 1713195635221,
     "user": {
      "displayName": "Vitor Augusto",
      "userId": "14130268794583623675"
     },
     "user_tz": 180
    },
    "id": "NyZ_3OTsxqSZ",
    "outputId": "0a3f418a-8410-4a4a-8307-b237f10f9341"
   },
   "outputs": [],
   "source": [
    "%cd {HOME}\n",
    "\n",
    "# Lembre-se: modificar em `model` o caminho do melhor modelo e output `name` \n",
    "!yolo \\\n",
    "task=detect \\\n",
    "mode=val \\\n",
    "model={HOME}/runs/detect/<testx/model_epochs_imagens_mode>/weights/best.pt \\\n",
    "data={DATASET_DIR_PATH}/data.yaml \\\n",
    "name=<testx/model_epochs_imagens_mode>"
   ]
  },
  {
   "cell_type": "markdown",
   "metadata": {
    "id": "cTm6gMo5qIrf"
   },
   "source": [
    "### Exibir resultados de treinamento e validacao\n",
    "**NOTA**: Os arquivos dos resultados de treinamento e validacao foram gerados e armazenados no diretorio `runs\\detect\\testx`, onde x é numero de 1 a n."
   ]
  },
  {
   "cell_type": "markdown",
   "metadata": {
    "id": "FMBBw4wx29Q5"
   },
   "source": [
    "**Matriz de confusao**"
   ]
  },
  {
   "cell_type": "code",
   "execution_count": null,
   "metadata": {
    "id": "LkRQ7TkgxqSa"
   },
   "outputs": [],
   "source": [
    "Image(filename=f'{HOME}/runs/detect/<testx/model_epochs_imagens_mode>/confusion_matrix.png', width=600)"
   ]
  },
  {
   "cell_type": "markdown",
   "metadata": {
    "id": "bZ8UP7Qw3BXZ"
   },
   "source": [
    "**Metricas de treinamento**"
   ]
  },
  {
   "cell_type": "code",
   "execution_count": null,
   "metadata": {
    "id": "z6U9XV5qXvv3"
   },
   "outputs": [],
   "source": [
    "Image(filename=f'{HOME}/runs/detect/<testx/model_epochs_imagens_mode>/results.png', width=600)"
   ]
  },
  {
   "cell_type": "markdown",
   "metadata": {
    "id": "7OnzfoXT3EEV"
   },
   "source": [
    "**Imagens validadas**"
   ]
  },
  {
   "cell_type": "code",
   "execution_count": null,
   "metadata": {
    "id": "e5bANsRwlKmD"
   },
   "outputs": [],
   "source": [
    "Image(filename=f'{HOME}/runs/detect/<testx/model_epochs_imagens_mode>/val_batch0_labels.jpg', width=600)"
   ]
  },
  {
   "cell_type": "markdown",
   "metadata": {},
   "source": [
    "### Executar inferência em um vídeo\n",
    "Utiliza um modelo YOLOv8x treinado para executar previsões em imagens"
   ]
  },
  {
   "cell_type": "code",
   "execution_count": null,
   "metadata": {},
   "outputs": [],
   "source": [
    "# Determinar caminhos de input e output de video\n",
    "INPUT_VIDEO_PATH = TEST_VIDEO_PATHS[0]                                                          # primeiro vídeo da lista                         \n",
    "OUTPUT_VIDEO_PATH = f\"{HOME}/output.mp4\"                                                        # nome do vídeo de saída     \n",
    "TRAINED_MODEL_PATH = f\"{HOME}/runs/detect/<testx/model_epochs_imagens_mode>/weights/best.pt\"    # melhor modelo treinado "
   ]
  },
  {
   "cell_type": "code",
   "execution_count": null,
   "metadata": {},
   "outputs": [],
   "source": [
    "%cd {HOME}\n",
    "\n",
    "!yolo \\\n",
    "predict \\\n",
    "model={TRAINED_MODEL_PATH} \\\n",
    "source={INPUT_VIDEO_PATH}"
   ]
  }
 ],
 "metadata": {
  "accelerator": "GPU",
  "colab": {
   "gpuType": "T4",
   "provenance": []
  },
  "kernelspec": {
   "display_name": "Python 3 (ipykernel)",
   "language": "python",
   "name": "python3"
  },
  "language_info": {
   "codemirror_mode": {
    "name": "ipython",
    "version": 3
   },
   "file_extension": ".py",
   "mimetype": "text/x-python",
   "name": "python",
   "nbconvert_exporter": "python",
   "pygments_lexer": "ipython3",
   "version": "3.12.3"
  },
  "widgets": {
   "application/vnd.jupyter.widget-state+json": {
    "077f82669f52439aa41ac1a0a81262e4": {
     "model_module": "@jupyter-widgets/controls",
     "model_module_version": "1.5.0",
     "model_name": "ProgressStyleModel",
     "state": {
      "_model_module": "@jupyter-widgets/controls",
      "_model_module_version": "1.5.0",
      "_model_name": "ProgressStyleModel",
      "_view_count": null,
      "_view_module": "@jupyter-widgets/base",
      "_view_module_version": "1.2.0",
      "_view_name": "StyleView",
      "bar_color": null,
      "description_width": ""
     }
    },
    "110328c5f39d478e857d078093b3a456": {
     "model_module": "@jupyter-widgets/controls",
     "model_module_version": "1.5.0",
     "model_name": "ProgressStyleModel",
     "state": {
      "_model_module": "@jupyter-widgets/controls",
      "_model_module_version": "1.5.0",
      "_model_name": "ProgressStyleModel",
      "_view_count": null,
      "_view_module": "@jupyter-widgets/base",
      "_view_module_version": "1.2.0",
      "_view_name": "StyleView",
      "bar_color": null,
      "description_width": ""
     }
    },
    "13dc1b428c934b698c050e482221928a": {
     "model_module": "@jupyter-widgets/base",
     "model_module_version": "1.2.0",
     "model_name": "LayoutModel",
     "state": {
      "_model_module": "@jupyter-widgets/base",
      "_model_module_version": "1.2.0",
      "_model_name": "LayoutModel",
      "_view_count": null,
      "_view_module": "@jupyter-widgets/base",
      "_view_module_version": "1.2.0",
      "_view_name": "LayoutView",
      "align_content": null,
      "align_items": null,
      "align_self": null,
      "border": null,
      "bottom": null,
      "display": null,
      "flex": null,
      "flex_flow": null,
      "grid_area": null,
      "grid_auto_columns": null,
      "grid_auto_flow": null,
      "grid_auto_rows": null,
      "grid_column": null,
      "grid_gap": null,
      "grid_row": null,
      "grid_template_areas": null,
      "grid_template_columns": null,
      "grid_template_rows": null,
      "height": null,
      "justify_content": null,
      "justify_items": null,
      "left": null,
      "margin": null,
      "max_height": null,
      "max_width": null,
      "min_height": null,
      "min_width": null,
      "object_fit": null,
      "object_position": null,
      "order": null,
      "overflow": null,
      "overflow_x": null,
      "overflow_y": null,
      "padding": null,
      "right": null,
      "top": null,
      "visibility": null,
      "width": null
     }
    },
    "167aa75d354b40919e5412a6ea28802d": {
     "model_module": "@jupyter-widgets/controls",
     "model_module_version": "1.5.0",
     "model_name": "HTMLModel",
     "state": {
      "_dom_classes": [],
      "_model_module": "@jupyter-widgets/controls",
      "_model_module_version": "1.5.0",
      "_model_name": "HTMLModel",
      "_view_count": null,
      "_view_module": "@jupyter-widgets/controls",
      "_view_module_version": "1.5.0",
      "_view_name": "HTMLView",
      "description": "",
      "description_tooltip": null,
      "layout": "IPY_MODEL_8205956931f94efeb61e71083f95fc46",
      "placeholder": "​",
      "style": "IPY_MODEL_781366c0bb8e4de1b76ca7c22516ce37",
      "value": "vocab.txt: 100%"
     }
    },
    "205530b0954d4477a774504a729b920d": {
     "model_module": "@jupyter-widgets/base",
     "model_module_version": "1.2.0",
     "model_name": "LayoutModel",
     "state": {
      "_model_module": "@jupyter-widgets/base",
      "_model_module_version": "1.2.0",
      "_model_name": "LayoutModel",
      "_view_count": null,
      "_view_module": "@jupyter-widgets/base",
      "_view_module_version": "1.2.0",
      "_view_name": "LayoutView",
      "align_content": null,
      "align_items": null,
      "align_self": null,
      "border": null,
      "bottom": null,
      "display": null,
      "flex": null,
      "flex_flow": null,
      "grid_area": null,
      "grid_auto_columns": null,
      "grid_auto_flow": null,
      "grid_auto_rows": null,
      "grid_column": null,
      "grid_gap": null,
      "grid_row": null,
      "grid_template_areas": null,
      "grid_template_columns": null,
      "grid_template_rows": null,
      "height": null,
      "justify_content": null,
      "justify_items": null,
      "left": null,
      "margin": null,
      "max_height": null,
      "max_width": null,
      "min_height": null,
      "min_width": null,
      "object_fit": null,
      "object_position": null,
      "order": null,
      "overflow": null,
      "overflow_x": null,
      "overflow_y": null,
      "padding": null,
      "right": null,
      "top": null,
      "visibility": null,
      "width": null
     }
    },
    "24ae593dbd6240c7b41959f2e9b1bc8e": {
     "model_module": "@jupyter-widgets/controls",
     "model_module_version": "1.5.0",
     "model_name": "FloatProgressModel",
     "state": {
      "_dom_classes": [],
      "_model_module": "@jupyter-widgets/controls",
      "_model_module_version": "1.5.0",
      "_model_name": "FloatProgressModel",
      "_view_count": null,
      "_view_module": "@jupyter-widgets/controls",
      "_view_module_version": "1.5.0",
      "_view_name": "ProgressView",
      "bar_style": "success",
      "description": "",
      "description_tooltip": null,
      "layout": "IPY_MODEL_730b3ed7ece5479ea969397e08f86fa2",
      "max": 48,
      "min": 0,
      "orientation": "horizontal",
      "style": "IPY_MODEL_7d0bf154e4244a7188d970a244185141",
      "value": 48
     }
    },
    "2d1ff643ee5c44138ffbf8b5c90fbbb0": {
     "model_module": "@jupyter-widgets/base",
     "model_module_version": "1.2.0",
     "model_name": "LayoutModel",
     "state": {
      "_model_module": "@jupyter-widgets/base",
      "_model_module_version": "1.2.0",
      "_model_name": "LayoutModel",
      "_view_count": null,
      "_view_module": "@jupyter-widgets/base",
      "_view_module_version": "1.2.0",
      "_view_name": "LayoutView",
      "align_content": null,
      "align_items": null,
      "align_self": null,
      "border": null,
      "bottom": null,
      "display": null,
      "flex": null,
      "flex_flow": null,
      "grid_area": null,
      "grid_auto_columns": null,
      "grid_auto_flow": null,
      "grid_auto_rows": null,
      "grid_column": null,
      "grid_gap": null,
      "grid_row": null,
      "grid_template_areas": null,
      "grid_template_columns": null,
      "grid_template_rows": null,
      "height": null,
      "justify_content": null,
      "justify_items": null,
      "left": null,
      "margin": null,
      "max_height": null,
      "max_width": null,
      "min_height": null,
      "min_width": null,
      "object_fit": null,
      "object_position": null,
      "order": null,
      "overflow": null,
      "overflow_x": null,
      "overflow_y": null,
      "padding": null,
      "right": null,
      "top": null,
      "visibility": null,
      "width": null
     }
    },
    "307acf7b191144a98b313cad6bc3870e": {
     "model_module": "@jupyter-widgets/controls",
     "model_module_version": "1.5.0",
     "model_name": "DescriptionStyleModel",
     "state": {
      "_model_module": "@jupyter-widgets/controls",
      "_model_module_version": "1.5.0",
      "_model_name": "DescriptionStyleModel",
      "_view_count": null,
      "_view_module": "@jupyter-widgets/base",
      "_view_module_version": "1.2.0",
      "_view_name": "StyleView",
      "description_width": ""
     }
    },
    "30fe1877e8de4ec7a13f065ed3c0eaf2": {
     "model_module": "@jupyter-widgets/controls",
     "model_module_version": "1.5.0",
     "model_name": "HTMLModel",
     "state": {
      "_dom_classes": [],
      "_model_module": "@jupyter-widgets/controls",
      "_model_module_version": "1.5.0",
      "_model_name": "HTMLModel",
      "_view_count": null,
      "_view_module": "@jupyter-widgets/controls",
      "_view_module_version": "1.5.0",
      "_view_name": "HTMLView",
      "description": "",
      "description_tooltip": null,
      "layout": "IPY_MODEL_555396de6f4f48229f7dd53cbbeb666a",
      "placeholder": "​",
      "style": "IPY_MODEL_d1ac846b04f24602b3ef7c76eb9ca570",
      "value": " 440M/440M [00:01&lt;00:00, 248MB/s]"
     }
    },
    "3e596f18d03141938082ee02786c1e46": {
     "model_module": "@jupyter-widgets/controls",
     "model_module_version": "1.5.0",
     "model_name": "ProgressStyleModel",
     "state": {
      "_model_module": "@jupyter-widgets/controls",
      "_model_module_version": "1.5.0",
      "_model_name": "ProgressStyleModel",
      "_view_count": null,
      "_view_module": "@jupyter-widgets/base",
      "_view_module_version": "1.2.0",
      "_view_name": "StyleView",
      "bar_color": null,
      "description_width": ""
     }
    },
    "4b7a592a814442bdaae3d289b294cce7": {
     "model_module": "@jupyter-widgets/controls",
     "model_module_version": "1.5.0",
     "model_name": "HBoxModel",
     "state": {
      "_dom_classes": [],
      "_model_module": "@jupyter-widgets/controls",
      "_model_module_version": "1.5.0",
      "_model_name": "HBoxModel",
      "_view_count": null,
      "_view_module": "@jupyter-widgets/controls",
      "_view_module_version": "1.5.0",
      "_view_name": "HBoxView",
      "box_style": "",
      "children": [
       "IPY_MODEL_74260287dbbf4e2890dd3444fca3ccf2",
       "IPY_MODEL_55e97e1d980e4553b0f2c31756a5df26",
       "IPY_MODEL_d2e15eb452f540d9978a44904d711f28"
      ],
      "layout": "IPY_MODEL_8425e159d85c47a7abbee14b8b14e4df"
     }
    },
    "4fe169ab323c47c582101d016619c3a9": {
     "model_module": "@jupyter-widgets/controls",
     "model_module_version": "1.5.0",
     "model_name": "HBoxModel",
     "state": {
      "_dom_classes": [],
      "_model_module": "@jupyter-widgets/controls",
      "_model_module_version": "1.5.0",
      "_model_name": "HBoxModel",
      "_view_count": null,
      "_view_module": "@jupyter-widgets/controls",
      "_view_module_version": "1.5.0",
      "_view_name": "HBoxView",
      "box_style": "",
      "children": [
       "IPY_MODEL_de34130635814e97bc87fe600bd5d2ff",
       "IPY_MODEL_24ae593dbd6240c7b41959f2e9b1bc8e",
       "IPY_MODEL_785f1c4f933845e882f1f05b426e6b3c"
      ],
      "layout": "IPY_MODEL_99b9f4a9c29b4e62a8d7beec484fff9d"
     }
    },
    "5490e0aeb93f42b88a16541c45a909c5": {
     "model_module": "@jupyter-widgets/controls",
     "model_module_version": "1.5.0",
     "model_name": "FloatProgressModel",
     "state": {
      "_dom_classes": [],
      "_model_module": "@jupyter-widgets/controls",
      "_model_module_version": "1.5.0",
      "_model_name": "FloatProgressModel",
      "_view_count": null,
      "_view_module": "@jupyter-widgets/controls",
      "_view_module_version": "1.5.0",
      "_view_name": "ProgressView",
      "bar_style": "success",
      "description": "",
      "description_tooltip": null,
      "layout": "IPY_MODEL_e84171064af5468aaa8deaca464c6511",
      "max": 231508,
      "min": 0,
      "orientation": "horizontal",
      "style": "IPY_MODEL_110328c5f39d478e857d078093b3a456",
      "value": 231508
     }
    },
    "555396de6f4f48229f7dd53cbbeb666a": {
     "model_module": "@jupyter-widgets/base",
     "model_module_version": "1.2.0",
     "model_name": "LayoutModel",
     "state": {
      "_model_module": "@jupyter-widgets/base",
      "_model_module_version": "1.2.0",
      "_model_name": "LayoutModel",
      "_view_count": null,
      "_view_module": "@jupyter-widgets/base",
      "_view_module_version": "1.2.0",
      "_view_name": "LayoutView",
      "align_content": null,
      "align_items": null,
      "align_self": null,
      "border": null,
      "bottom": null,
      "display": null,
      "flex": null,
      "flex_flow": null,
      "grid_area": null,
      "grid_auto_columns": null,
      "grid_auto_flow": null,
      "grid_auto_rows": null,
      "grid_column": null,
      "grid_gap": null,
      "grid_row": null,
      "grid_template_areas": null,
      "grid_template_columns": null,
      "grid_template_rows": null,
      "height": null,
      "justify_content": null,
      "justify_items": null,
      "left": null,
      "margin": null,
      "max_height": null,
      "max_width": null,
      "min_height": null,
      "min_width": null,
      "object_fit": null,
      "object_position": null,
      "order": null,
      "overflow": null,
      "overflow_x": null,
      "overflow_y": null,
      "padding": null,
      "right": null,
      "top": null,
      "visibility": null,
      "width": null
     }
    },
    "55e97e1d980e4553b0f2c31756a5df26": {
     "model_module": "@jupyter-widgets/controls",
     "model_module_version": "1.5.0",
     "model_name": "FloatProgressModel",
     "state": {
      "_dom_classes": [],
      "_model_module": "@jupyter-widgets/controls",
      "_model_module_version": "1.5.0",
      "_model_name": "FloatProgressModel",
      "_view_count": null,
      "_view_module": "@jupyter-widgets/controls",
      "_view_module_version": "1.5.0",
      "_view_name": "ProgressView",
      "bar_style": "success",
      "description": "",
      "description_tooltip": null,
      "layout": "IPY_MODEL_205530b0954d4477a774504a729b920d",
      "max": 570,
      "min": 0,
      "orientation": "horizontal",
      "style": "IPY_MODEL_3e596f18d03141938082ee02786c1e46",
      "value": 570
     }
    },
    "592f923e7d7d4dd49a119506219a1b95": {
     "model_module": "@jupyter-widgets/controls",
     "model_module_version": "1.5.0",
     "model_name": "HBoxModel",
     "state": {
      "_dom_classes": [],
      "_model_module": "@jupyter-widgets/controls",
      "_model_module_version": "1.5.0",
      "_model_name": "HBoxModel",
      "_view_count": null,
      "_view_module": "@jupyter-widgets/controls",
      "_view_module_version": "1.5.0",
      "_view_name": "HBoxView",
      "box_style": "",
      "children": [
       "IPY_MODEL_167aa75d354b40919e5412a6ea28802d",
       "IPY_MODEL_5490e0aeb93f42b88a16541c45a909c5",
       "IPY_MODEL_ace36a0a18984905a7bf9d961a948746"
      ],
      "layout": "IPY_MODEL_f0e8efca48bb4254b4696de89d3f2120"
     }
    },
    "5ed76cc6226a4343af1fa6001695130b": {
     "model_module": "@jupyter-widgets/base",
     "model_module_version": "1.2.0",
     "model_name": "LayoutModel",
     "state": {
      "_model_module": "@jupyter-widgets/base",
      "_model_module_version": "1.2.0",
      "_model_name": "LayoutModel",
      "_view_count": null,
      "_view_module": "@jupyter-widgets/base",
      "_view_module_version": "1.2.0",
      "_view_name": "LayoutView",
      "align_content": null,
      "align_items": null,
      "align_self": null,
      "border": null,
      "bottom": null,
      "display": null,
      "flex": null,
      "flex_flow": null,
      "grid_area": null,
      "grid_auto_columns": null,
      "grid_auto_flow": null,
      "grid_auto_rows": null,
      "grid_column": null,
      "grid_gap": null,
      "grid_row": null,
      "grid_template_areas": null,
      "grid_template_columns": null,
      "grid_template_rows": null,
      "height": null,
      "justify_content": null,
      "justify_items": null,
      "left": null,
      "margin": null,
      "max_height": null,
      "max_width": null,
      "min_height": null,
      "min_width": null,
      "object_fit": null,
      "object_position": null,
      "order": null,
      "overflow": null,
      "overflow_x": null,
      "overflow_y": null,
      "padding": null,
      "right": null,
      "top": null,
      "visibility": null,
      "width": null
     }
    },
    "699f0bbadcb0469081badfa451eaa6d6": {
     "model_module": "@jupyter-widgets/base",
     "model_module_version": "1.2.0",
     "model_name": "LayoutModel",
     "state": {
      "_model_module": "@jupyter-widgets/base",
      "_model_module_version": "1.2.0",
      "_model_name": "LayoutModel",
      "_view_count": null,
      "_view_module": "@jupyter-widgets/base",
      "_view_module_version": "1.2.0",
      "_view_name": "LayoutView",
      "align_content": null,
      "align_items": null,
      "align_self": null,
      "border": null,
      "bottom": null,
      "display": null,
      "flex": null,
      "flex_flow": null,
      "grid_area": null,
      "grid_auto_columns": null,
      "grid_auto_flow": null,
      "grid_auto_rows": null,
      "grid_column": null,
      "grid_gap": null,
      "grid_row": null,
      "grid_template_areas": null,
      "grid_template_columns": null,
      "grid_template_rows": null,
      "height": null,
      "justify_content": null,
      "justify_items": null,
      "left": null,
      "margin": null,
      "max_height": null,
      "max_width": null,
      "min_height": null,
      "min_width": null,
      "object_fit": null,
      "object_position": null,
      "order": null,
      "overflow": null,
      "overflow_x": null,
      "overflow_y": null,
      "padding": null,
      "right": null,
      "top": null,
      "visibility": null,
      "width": null
     }
    },
    "730b3ed7ece5479ea969397e08f86fa2": {
     "model_module": "@jupyter-widgets/base",
     "model_module_version": "1.2.0",
     "model_name": "LayoutModel",
     "state": {
      "_model_module": "@jupyter-widgets/base",
      "_model_module_version": "1.2.0",
      "_model_name": "LayoutModel",
      "_view_count": null,
      "_view_module": "@jupyter-widgets/base",
      "_view_module_version": "1.2.0",
      "_view_name": "LayoutView",
      "align_content": null,
      "align_items": null,
      "align_self": null,
      "border": null,
      "bottom": null,
      "display": null,
      "flex": null,
      "flex_flow": null,
      "grid_area": null,
      "grid_auto_columns": null,
      "grid_auto_flow": null,
      "grid_auto_rows": null,
      "grid_column": null,
      "grid_gap": null,
      "grid_row": null,
      "grid_template_areas": null,
      "grid_template_columns": null,
      "grid_template_rows": null,
      "height": null,
      "justify_content": null,
      "justify_items": null,
      "left": null,
      "margin": null,
      "max_height": null,
      "max_width": null,
      "min_height": null,
      "min_width": null,
      "object_fit": null,
      "object_position": null,
      "order": null,
      "overflow": null,
      "overflow_x": null,
      "overflow_y": null,
      "padding": null,
      "right": null,
      "top": null,
      "visibility": null,
      "width": null
     }
    },
    "74260287dbbf4e2890dd3444fca3ccf2": {
     "model_module": "@jupyter-widgets/controls",
     "model_module_version": "1.5.0",
     "model_name": "HTMLModel",
     "state": {
      "_dom_classes": [],
      "_model_module": "@jupyter-widgets/controls",
      "_model_module_version": "1.5.0",
      "_model_name": "HTMLModel",
      "_view_count": null,
      "_view_module": "@jupyter-widgets/controls",
      "_view_module_version": "1.5.0",
      "_view_name": "HTMLView",
      "description": "",
      "description_tooltip": null,
      "layout": "IPY_MODEL_ddc2149cf2524c9a948a5900b20d0745",
      "placeholder": "​",
      "style": "IPY_MODEL_88791bcbb4f74903af02187eaa43ef0a",
      "value": "config.json: 100%"
     }
    },
    "7587358af6f949f980a535ba21e39447": {
     "model_module": "@jupyter-widgets/controls",
     "model_module_version": "1.5.0",
     "model_name": "HTMLModel",
     "state": {
      "_dom_classes": [],
      "_model_module": "@jupyter-widgets/controls",
      "_model_module_version": "1.5.0",
      "_model_name": "HTMLModel",
      "_view_count": null,
      "_view_module": "@jupyter-widgets/controls",
      "_view_module_version": "1.5.0",
      "_view_name": "HTMLView",
      "description": "",
      "description_tooltip": null,
      "layout": "IPY_MODEL_a870f013197945d08f06e9ae0196f324",
      "placeholder": "​",
      "style": "IPY_MODEL_c75b7bfac2664a8cae4dc3343253e55e",
      "value": " 466k/466k [00:00&lt;00:00, 2.38MB/s]"
     }
    },
    "781366c0bb8e4de1b76ca7c22516ce37": {
     "model_module": "@jupyter-widgets/controls",
     "model_module_version": "1.5.0",
     "model_name": "DescriptionStyleModel",
     "state": {
      "_model_module": "@jupyter-widgets/controls",
      "_model_module_version": "1.5.0",
      "_model_name": "DescriptionStyleModel",
      "_view_count": null,
      "_view_module": "@jupyter-widgets/base",
      "_view_module_version": "1.2.0",
      "_view_name": "StyleView",
      "description_width": ""
     }
    },
    "785f1c4f933845e882f1f05b426e6b3c": {
     "model_module": "@jupyter-widgets/controls",
     "model_module_version": "1.5.0",
     "model_name": "HTMLModel",
     "state": {
      "_dom_classes": [],
      "_model_module": "@jupyter-widgets/controls",
      "_model_module_version": "1.5.0",
      "_model_name": "HTMLModel",
      "_view_count": null,
      "_view_module": "@jupyter-widgets/controls",
      "_view_module_version": "1.5.0",
      "_view_name": "HTMLView",
      "description": "",
      "description_tooltip": null,
      "layout": "IPY_MODEL_e23799da195e42c481e08a7d12e58250",
      "placeholder": "​",
      "style": "IPY_MODEL_f2d02e06cca84366b3cc257c9770b328",
      "value": " 48.0/48.0 [00:00&lt;00:00, 2.40kB/s]"
     }
    },
    "7ccd8f00c8524819bdce62bf998ce0fe": {
     "model_module": "@jupyter-widgets/controls",
     "model_module_version": "1.5.0",
     "model_name": "DescriptionStyleModel",
     "state": {
      "_model_module": "@jupyter-widgets/controls",
      "_model_module_version": "1.5.0",
      "_model_name": "DescriptionStyleModel",
      "_view_count": null,
      "_view_module": "@jupyter-widgets/base",
      "_view_module_version": "1.2.0",
      "_view_name": "StyleView",
      "description_width": ""
     }
    },
    "7d0bf154e4244a7188d970a244185141": {
     "model_module": "@jupyter-widgets/controls",
     "model_module_version": "1.5.0",
     "model_name": "ProgressStyleModel",
     "state": {
      "_model_module": "@jupyter-widgets/controls",
      "_model_module_version": "1.5.0",
      "_model_name": "ProgressStyleModel",
      "_view_count": null,
      "_view_module": "@jupyter-widgets/base",
      "_view_module_version": "1.2.0",
      "_view_name": "StyleView",
      "bar_color": null,
      "description_width": ""
     }
    },
    "7d2e0c8478b24ade8a333e24e877cf5c": {
     "model_module": "@jupyter-widgets/controls",
     "model_module_version": "1.5.0",
     "model_name": "HTMLModel",
     "state": {
      "_dom_classes": [],
      "_model_module": "@jupyter-widgets/controls",
      "_model_module_version": "1.5.0",
      "_model_name": "HTMLModel",
      "_view_count": null,
      "_view_module": "@jupyter-widgets/controls",
      "_view_module_version": "1.5.0",
      "_view_name": "HTMLView",
      "description": "",
      "description_tooltip": null,
      "layout": "IPY_MODEL_8d148ae63b814b2586d5c31d79730502",
      "placeholder": "​",
      "style": "IPY_MODEL_b0fd68156052405ea4fbe409b3cd3f10",
      "value": "tokenizer.json: 100%"
     }
    },
    "7e393fb21d8a4f82b837af4f2eb24ed8": {
     "model_module": "@jupyter-widgets/base",
     "model_module_version": "1.2.0",
     "model_name": "LayoutModel",
     "state": {
      "_model_module": "@jupyter-widgets/base",
      "_model_module_version": "1.2.0",
      "_model_name": "LayoutModel",
      "_view_count": null,
      "_view_module": "@jupyter-widgets/base",
      "_view_module_version": "1.2.0",
      "_view_name": "LayoutView",
      "align_content": null,
      "align_items": null,
      "align_self": null,
      "border": null,
      "bottom": null,
      "display": null,
      "flex": null,
      "flex_flow": null,
      "grid_area": null,
      "grid_auto_columns": null,
      "grid_auto_flow": null,
      "grid_auto_rows": null,
      "grid_column": null,
      "grid_gap": null,
      "grid_row": null,
      "grid_template_areas": null,
      "grid_template_columns": null,
      "grid_template_rows": null,
      "height": null,
      "justify_content": null,
      "justify_items": null,
      "left": null,
      "margin": null,
      "max_height": null,
      "max_width": null,
      "min_height": null,
      "min_width": null,
      "object_fit": null,
      "object_position": null,
      "order": null,
      "overflow": null,
      "overflow_x": null,
      "overflow_y": null,
      "padding": null,
      "right": null,
      "top": null,
      "visibility": null,
      "width": null
     }
    },
    "8205956931f94efeb61e71083f95fc46": {
     "model_module": "@jupyter-widgets/base",
     "model_module_version": "1.2.0",
     "model_name": "LayoutModel",
     "state": {
      "_model_module": "@jupyter-widgets/base",
      "_model_module_version": "1.2.0",
      "_model_name": "LayoutModel",
      "_view_count": null,
      "_view_module": "@jupyter-widgets/base",
      "_view_module_version": "1.2.0",
      "_view_name": "LayoutView",
      "align_content": null,
      "align_items": null,
      "align_self": null,
      "border": null,
      "bottom": null,
      "display": null,
      "flex": null,
      "flex_flow": null,
      "grid_area": null,
      "grid_auto_columns": null,
      "grid_auto_flow": null,
      "grid_auto_rows": null,
      "grid_column": null,
      "grid_gap": null,
      "grid_row": null,
      "grid_template_areas": null,
      "grid_template_columns": null,
      "grid_template_rows": null,
      "height": null,
      "justify_content": null,
      "justify_items": null,
      "left": null,
      "margin": null,
      "max_height": null,
      "max_width": null,
      "min_height": null,
      "min_width": null,
      "object_fit": null,
      "object_position": null,
      "order": null,
      "overflow": null,
      "overflow_x": null,
      "overflow_y": null,
      "padding": null,
      "right": null,
      "top": null,
      "visibility": null,
      "width": null
     }
    },
    "8425e159d85c47a7abbee14b8b14e4df": {
     "model_module": "@jupyter-widgets/base",
     "model_module_version": "1.2.0",
     "model_name": "LayoutModel",
     "state": {
      "_model_module": "@jupyter-widgets/base",
      "_model_module_version": "1.2.0",
      "_model_name": "LayoutModel",
      "_view_count": null,
      "_view_module": "@jupyter-widgets/base",
      "_view_module_version": "1.2.0",
      "_view_name": "LayoutView",
      "align_content": null,
      "align_items": null,
      "align_self": null,
      "border": null,
      "bottom": null,
      "display": null,
      "flex": null,
      "flex_flow": null,
      "grid_area": null,
      "grid_auto_columns": null,
      "grid_auto_flow": null,
      "grid_auto_rows": null,
      "grid_column": null,
      "grid_gap": null,
      "grid_row": null,
      "grid_template_areas": null,
      "grid_template_columns": null,
      "grid_template_rows": null,
      "height": null,
      "justify_content": null,
      "justify_items": null,
      "left": null,
      "margin": null,
      "max_height": null,
      "max_width": null,
      "min_height": null,
      "min_width": null,
      "object_fit": null,
      "object_position": null,
      "order": null,
      "overflow": null,
      "overflow_x": null,
      "overflow_y": null,
      "padding": null,
      "right": null,
      "top": null,
      "visibility": null,
      "width": null
     }
    },
    "88791bcbb4f74903af02187eaa43ef0a": {
     "model_module": "@jupyter-widgets/controls",
     "model_module_version": "1.5.0",
     "model_name": "DescriptionStyleModel",
     "state": {
      "_model_module": "@jupyter-widgets/controls",
      "_model_module_version": "1.5.0",
      "_model_name": "DescriptionStyleModel",
      "_view_count": null,
      "_view_module": "@jupyter-widgets/base",
      "_view_module_version": "1.2.0",
      "_view_name": "StyleView",
      "description_width": ""
     }
    },
    "8d148ae63b814b2586d5c31d79730502": {
     "model_module": "@jupyter-widgets/base",
     "model_module_version": "1.2.0",
     "model_name": "LayoutModel",
     "state": {
      "_model_module": "@jupyter-widgets/base",
      "_model_module_version": "1.2.0",
      "_model_name": "LayoutModel",
      "_view_count": null,
      "_view_module": "@jupyter-widgets/base",
      "_view_module_version": "1.2.0",
      "_view_name": "LayoutView",
      "align_content": null,
      "align_items": null,
      "align_self": null,
      "border": null,
      "bottom": null,
      "display": null,
      "flex": null,
      "flex_flow": null,
      "grid_area": null,
      "grid_auto_columns": null,
      "grid_auto_flow": null,
      "grid_auto_rows": null,
      "grid_column": null,
      "grid_gap": null,
      "grid_row": null,
      "grid_template_areas": null,
      "grid_template_columns": null,
      "grid_template_rows": null,
      "height": null,
      "justify_content": null,
      "justify_items": null,
      "left": null,
      "margin": null,
      "max_height": null,
      "max_width": null,
      "min_height": null,
      "min_width": null,
      "object_fit": null,
      "object_position": null,
      "order": null,
      "overflow": null,
      "overflow_x": null,
      "overflow_y": null,
      "padding": null,
      "right": null,
      "top": null,
      "visibility": null,
      "width": null
     }
    },
    "92ed5516768f4d3690f5af198611df07": {
     "model_module": "@jupyter-widgets/base",
     "model_module_version": "1.2.0",
     "model_name": "LayoutModel",
     "state": {
      "_model_module": "@jupyter-widgets/base",
      "_model_module_version": "1.2.0",
      "_model_name": "LayoutModel",
      "_view_count": null,
      "_view_module": "@jupyter-widgets/base",
      "_view_module_version": "1.2.0",
      "_view_name": "LayoutView",
      "align_content": null,
      "align_items": null,
      "align_self": null,
      "border": null,
      "bottom": null,
      "display": null,
      "flex": null,
      "flex_flow": null,
      "grid_area": null,
      "grid_auto_columns": null,
      "grid_auto_flow": null,
      "grid_auto_rows": null,
      "grid_column": null,
      "grid_gap": null,
      "grid_row": null,
      "grid_template_areas": null,
      "grid_template_columns": null,
      "grid_template_rows": null,
      "height": null,
      "justify_content": null,
      "justify_items": null,
      "left": null,
      "margin": null,
      "max_height": null,
      "max_width": null,
      "min_height": null,
      "min_width": null,
      "object_fit": null,
      "object_position": null,
      "order": null,
      "overflow": null,
      "overflow_x": null,
      "overflow_y": null,
      "padding": null,
      "right": null,
      "top": null,
      "visibility": null,
      "width": null
     }
    },
    "939d7a038c71419495ce67b9f51a1b87": {
     "model_module": "@jupyter-widgets/controls",
     "model_module_version": "1.5.0",
     "model_name": "FloatProgressModel",
     "state": {
      "_dom_classes": [],
      "_model_module": "@jupyter-widgets/controls",
      "_model_module_version": "1.5.0",
      "_model_name": "FloatProgressModel",
      "_view_count": null,
      "_view_module": "@jupyter-widgets/controls",
      "_view_module_version": "1.5.0",
      "_view_name": "ProgressView",
      "bar_style": "success",
      "description": "",
      "description_tooltip": null,
      "layout": "IPY_MODEL_7e393fb21d8a4f82b837af4f2eb24ed8",
      "max": 440449768,
      "min": 0,
      "orientation": "horizontal",
      "style": "IPY_MODEL_077f82669f52439aa41ac1a0a81262e4",
      "value": 440449768
     }
    },
    "99b9f4a9c29b4e62a8d7beec484fff9d": {
     "model_module": "@jupyter-widgets/base",
     "model_module_version": "1.2.0",
     "model_name": "LayoutModel",
     "state": {
      "_model_module": "@jupyter-widgets/base",
      "_model_module_version": "1.2.0",
      "_model_name": "LayoutModel",
      "_view_count": null,
      "_view_module": "@jupyter-widgets/base",
      "_view_module_version": "1.2.0",
      "_view_name": "LayoutView",
      "align_content": null,
      "align_items": null,
      "align_self": null,
      "border": null,
      "bottom": null,
      "display": null,
      "flex": null,
      "flex_flow": null,
      "grid_area": null,
      "grid_auto_columns": null,
      "grid_auto_flow": null,
      "grid_auto_rows": null,
      "grid_column": null,
      "grid_gap": null,
      "grid_row": null,
      "grid_template_areas": null,
      "grid_template_columns": null,
      "grid_template_rows": null,
      "height": null,
      "justify_content": null,
      "justify_items": null,
      "left": null,
      "margin": null,
      "max_height": null,
      "max_width": null,
      "min_height": null,
      "min_width": null,
      "object_fit": null,
      "object_position": null,
      "order": null,
      "overflow": null,
      "overflow_x": null,
      "overflow_y": null,
      "padding": null,
      "right": null,
      "top": null,
      "visibility": null,
      "width": null
     }
    },
    "9b6ad4c56b624806913813241ec3059c": {
     "model_module": "@jupyter-widgets/controls",
     "model_module_version": "1.5.0",
     "model_name": "DescriptionStyleModel",
     "state": {
      "_model_module": "@jupyter-widgets/controls",
      "_model_module_version": "1.5.0",
      "_model_name": "DescriptionStyleModel",
      "_view_count": null,
      "_view_module": "@jupyter-widgets/base",
      "_view_module_version": "1.2.0",
      "_view_name": "StyleView",
      "description_width": ""
     }
    },
    "a1e4ab565e6b425fb21b3f214b464d54": {
     "model_module": "@jupyter-widgets/controls",
     "model_module_version": "1.5.0",
     "model_name": "HTMLModel",
     "state": {
      "_dom_classes": [],
      "_model_module": "@jupyter-widgets/controls",
      "_model_module_version": "1.5.0",
      "_model_name": "HTMLModel",
      "_view_count": null,
      "_view_module": "@jupyter-widgets/controls",
      "_view_module_version": "1.5.0",
      "_view_name": "HTMLView",
      "description": "",
      "description_tooltip": null,
      "layout": "IPY_MODEL_92ed5516768f4d3690f5af198611df07",
      "placeholder": "​",
      "style": "IPY_MODEL_f8203ca86eea4c4f974eb6152952f2ae",
      "value": "model.safetensors: 100%"
     }
    },
    "a870f013197945d08f06e9ae0196f324": {
     "model_module": "@jupyter-widgets/base",
     "model_module_version": "1.2.0",
     "model_name": "LayoutModel",
     "state": {
      "_model_module": "@jupyter-widgets/base",
      "_model_module_version": "1.2.0",
      "_model_name": "LayoutModel",
      "_view_count": null,
      "_view_module": "@jupyter-widgets/base",
      "_view_module_version": "1.2.0",
      "_view_name": "LayoutView",
      "align_content": null,
      "align_items": null,
      "align_self": null,
      "border": null,
      "bottom": null,
      "display": null,
      "flex": null,
      "flex_flow": null,
      "grid_area": null,
      "grid_auto_columns": null,
      "grid_auto_flow": null,
      "grid_auto_rows": null,
      "grid_column": null,
      "grid_gap": null,
      "grid_row": null,
      "grid_template_areas": null,
      "grid_template_columns": null,
      "grid_template_rows": null,
      "height": null,
      "justify_content": null,
      "justify_items": null,
      "left": null,
      "margin": null,
      "max_height": null,
      "max_width": null,
      "min_height": null,
      "min_width": null,
      "object_fit": null,
      "object_position": null,
      "order": null,
      "overflow": null,
      "overflow_x": null,
      "overflow_y": null,
      "padding": null,
      "right": null,
      "top": null,
      "visibility": null,
      "width": null
     }
    },
    "ace36a0a18984905a7bf9d961a948746": {
     "model_module": "@jupyter-widgets/controls",
     "model_module_version": "1.5.0",
     "model_name": "HTMLModel",
     "state": {
      "_dom_classes": [],
      "_model_module": "@jupyter-widgets/controls",
      "_model_module_version": "1.5.0",
      "_model_name": "HTMLModel",
      "_view_count": null,
      "_view_module": "@jupyter-widgets/controls",
      "_view_module_version": "1.5.0",
      "_view_name": "HTMLView",
      "description": "",
      "description_tooltip": null,
      "layout": "IPY_MODEL_699f0bbadcb0469081badfa451eaa6d6",
      "placeholder": "​",
      "style": "IPY_MODEL_307acf7b191144a98b313cad6bc3870e",
      "value": " 232k/232k [00:00&lt;00:00, 1.78MB/s]"
     }
    },
    "b0fd68156052405ea4fbe409b3cd3f10": {
     "model_module": "@jupyter-widgets/controls",
     "model_module_version": "1.5.0",
     "model_name": "DescriptionStyleModel",
     "state": {
      "_model_module": "@jupyter-widgets/controls",
      "_model_module_version": "1.5.0",
      "_model_name": "DescriptionStyleModel",
      "_view_count": null,
      "_view_module": "@jupyter-widgets/base",
      "_view_module_version": "1.2.0",
      "_view_name": "StyleView",
      "description_width": ""
     }
    },
    "c01e5e1ef63a437ba06f8b9d01889636": {
     "model_module": "@jupyter-widgets/base",
     "model_module_version": "1.2.0",
     "model_name": "LayoutModel",
     "state": {
      "_model_module": "@jupyter-widgets/base",
      "_model_module_version": "1.2.0",
      "_model_name": "LayoutModel",
      "_view_count": null,
      "_view_module": "@jupyter-widgets/base",
      "_view_module_version": "1.2.0",
      "_view_name": "LayoutView",
      "align_content": null,
      "align_items": null,
      "align_self": null,
      "border": null,
      "bottom": null,
      "display": null,
      "flex": null,
      "flex_flow": null,
      "grid_area": null,
      "grid_auto_columns": null,
      "grid_auto_flow": null,
      "grid_auto_rows": null,
      "grid_column": null,
      "grid_gap": null,
      "grid_row": null,
      "grid_template_areas": null,
      "grid_template_columns": null,
      "grid_template_rows": null,
      "height": null,
      "justify_content": null,
      "justify_items": null,
      "left": null,
      "margin": null,
      "max_height": null,
      "max_width": null,
      "min_height": null,
      "min_width": null,
      "object_fit": null,
      "object_position": null,
      "order": null,
      "overflow": null,
      "overflow_x": null,
      "overflow_y": null,
      "padding": null,
      "right": null,
      "top": null,
      "visibility": null,
      "width": null
     }
    },
    "c75b7bfac2664a8cae4dc3343253e55e": {
     "model_module": "@jupyter-widgets/controls",
     "model_module_version": "1.5.0",
     "model_name": "DescriptionStyleModel",
     "state": {
      "_model_module": "@jupyter-widgets/controls",
      "_model_module_version": "1.5.0",
      "_model_name": "DescriptionStyleModel",
      "_view_count": null,
      "_view_module": "@jupyter-widgets/base",
      "_view_module_version": "1.2.0",
      "_view_name": "StyleView",
      "description_width": ""
     }
    },
    "d1ac846b04f24602b3ef7c76eb9ca570": {
     "model_module": "@jupyter-widgets/controls",
     "model_module_version": "1.5.0",
     "model_name": "DescriptionStyleModel",
     "state": {
      "_model_module": "@jupyter-widgets/controls",
      "_model_module_version": "1.5.0",
      "_model_name": "DescriptionStyleModel",
      "_view_count": null,
      "_view_module": "@jupyter-widgets/base",
      "_view_module_version": "1.2.0",
      "_view_name": "StyleView",
      "description_width": ""
     }
    },
    "d2e15eb452f540d9978a44904d711f28": {
     "model_module": "@jupyter-widgets/controls",
     "model_module_version": "1.5.0",
     "model_name": "HTMLModel",
     "state": {
      "_dom_classes": [],
      "_model_module": "@jupyter-widgets/controls",
      "_model_module_version": "1.5.0",
      "_model_name": "HTMLModel",
      "_view_count": null,
      "_view_module": "@jupyter-widgets/controls",
      "_view_module_version": "1.5.0",
      "_view_name": "HTMLView",
      "description": "",
      "description_tooltip": null,
      "layout": "IPY_MODEL_5ed76cc6226a4343af1fa6001695130b",
      "placeholder": "​",
      "style": "IPY_MODEL_7ccd8f00c8524819bdce62bf998ce0fe",
      "value": " 570/570 [00:00&lt;00:00, 36.2kB/s]"
     }
    },
    "d9c495382ad341438ae43f40b3d9e820": {
     "model_module": "@jupyter-widgets/controls",
     "model_module_version": "1.5.0",
     "model_name": "FloatProgressModel",
     "state": {
      "_dom_classes": [],
      "_model_module": "@jupyter-widgets/controls",
      "_model_module_version": "1.5.0",
      "_model_name": "FloatProgressModel",
      "_view_count": null,
      "_view_module": "@jupyter-widgets/controls",
      "_view_module_version": "1.5.0",
      "_view_name": "ProgressView",
      "bar_style": "success",
      "description": "",
      "description_tooltip": null,
      "layout": "IPY_MODEL_c01e5e1ef63a437ba06f8b9d01889636",
      "max": 466062,
      "min": 0,
      "orientation": "horizontal",
      "style": "IPY_MODEL_e149ed7f6e144c1f86b018966e68176a",
      "value": 466062
     }
    },
    "dc0a367d60d84b39b4d778a619ac78c6": {
     "model_module": "@jupyter-widgets/controls",
     "model_module_version": "1.5.0",
     "model_name": "HBoxModel",
     "state": {
      "_dom_classes": [],
      "_model_module": "@jupyter-widgets/controls",
      "_model_module_version": "1.5.0",
      "_model_name": "HBoxModel",
      "_view_count": null,
      "_view_module": "@jupyter-widgets/controls",
      "_view_module_version": "1.5.0",
      "_view_name": "HBoxView",
      "box_style": "",
      "children": [
       "IPY_MODEL_a1e4ab565e6b425fb21b3f214b464d54",
       "IPY_MODEL_939d7a038c71419495ce67b9f51a1b87",
       "IPY_MODEL_30fe1877e8de4ec7a13f065ed3c0eaf2"
      ],
      "layout": "IPY_MODEL_e42b916c5b78498aa0a953098f4cd4b0"
     }
    },
    "ddc2149cf2524c9a948a5900b20d0745": {
     "model_module": "@jupyter-widgets/base",
     "model_module_version": "1.2.0",
     "model_name": "LayoutModel",
     "state": {
      "_model_module": "@jupyter-widgets/base",
      "_model_module_version": "1.2.0",
      "_model_name": "LayoutModel",
      "_view_count": null,
      "_view_module": "@jupyter-widgets/base",
      "_view_module_version": "1.2.0",
      "_view_name": "LayoutView",
      "align_content": null,
      "align_items": null,
      "align_self": null,
      "border": null,
      "bottom": null,
      "display": null,
      "flex": null,
      "flex_flow": null,
      "grid_area": null,
      "grid_auto_columns": null,
      "grid_auto_flow": null,
      "grid_auto_rows": null,
      "grid_column": null,
      "grid_gap": null,
      "grid_row": null,
      "grid_template_areas": null,
      "grid_template_columns": null,
      "grid_template_rows": null,
      "height": null,
      "justify_content": null,
      "justify_items": null,
      "left": null,
      "margin": null,
      "max_height": null,
      "max_width": null,
      "min_height": null,
      "min_width": null,
      "object_fit": null,
      "object_position": null,
      "order": null,
      "overflow": null,
      "overflow_x": null,
      "overflow_y": null,
      "padding": null,
      "right": null,
      "top": null,
      "visibility": null,
      "width": null
     }
    },
    "de34130635814e97bc87fe600bd5d2ff": {
     "model_module": "@jupyter-widgets/controls",
     "model_module_version": "1.5.0",
     "model_name": "HTMLModel",
     "state": {
      "_dom_classes": [],
      "_model_module": "@jupyter-widgets/controls",
      "_model_module_version": "1.5.0",
      "_model_name": "HTMLModel",
      "_view_count": null,
      "_view_module": "@jupyter-widgets/controls",
      "_view_module_version": "1.5.0",
      "_view_name": "HTMLView",
      "description": "",
      "description_tooltip": null,
      "layout": "IPY_MODEL_2d1ff643ee5c44138ffbf8b5c90fbbb0",
      "placeholder": "​",
      "style": "IPY_MODEL_9b6ad4c56b624806913813241ec3059c",
      "value": "tokenizer_config.json: 100%"
     }
    },
    "df8ce1f297f24fadac85795e3b00bdc2": {
     "model_module": "@jupyter-widgets/controls",
     "model_module_version": "1.5.0",
     "model_name": "HBoxModel",
     "state": {
      "_dom_classes": [],
      "_model_module": "@jupyter-widgets/controls",
      "_model_module_version": "1.5.0",
      "_model_name": "HBoxModel",
      "_view_count": null,
      "_view_module": "@jupyter-widgets/controls",
      "_view_module_version": "1.5.0",
      "_view_name": "HBoxView",
      "box_style": "",
      "children": [
       "IPY_MODEL_7d2e0c8478b24ade8a333e24e877cf5c",
       "IPY_MODEL_d9c495382ad341438ae43f40b3d9e820",
       "IPY_MODEL_7587358af6f949f980a535ba21e39447"
      ],
      "layout": "IPY_MODEL_13dc1b428c934b698c050e482221928a"
     }
    },
    "e149ed7f6e144c1f86b018966e68176a": {
     "model_module": "@jupyter-widgets/controls",
     "model_module_version": "1.5.0",
     "model_name": "ProgressStyleModel",
     "state": {
      "_model_module": "@jupyter-widgets/controls",
      "_model_module_version": "1.5.0",
      "_model_name": "ProgressStyleModel",
      "_view_count": null,
      "_view_module": "@jupyter-widgets/base",
      "_view_module_version": "1.2.0",
      "_view_name": "StyleView",
      "bar_color": null,
      "description_width": ""
     }
    },
    "e23799da195e42c481e08a7d12e58250": {
     "model_module": "@jupyter-widgets/base",
     "model_module_version": "1.2.0",
     "model_name": "LayoutModel",
     "state": {
      "_model_module": "@jupyter-widgets/base",
      "_model_module_version": "1.2.0",
      "_model_name": "LayoutModel",
      "_view_count": null,
      "_view_module": "@jupyter-widgets/base",
      "_view_module_version": "1.2.0",
      "_view_name": "LayoutView",
      "align_content": null,
      "align_items": null,
      "align_self": null,
      "border": null,
      "bottom": null,
      "display": null,
      "flex": null,
      "flex_flow": null,
      "grid_area": null,
      "grid_auto_columns": null,
      "grid_auto_flow": null,
      "grid_auto_rows": null,
      "grid_column": null,
      "grid_gap": null,
      "grid_row": null,
      "grid_template_areas": null,
      "grid_template_columns": null,
      "grid_template_rows": null,
      "height": null,
      "justify_content": null,
      "justify_items": null,
      "left": null,
      "margin": null,
      "max_height": null,
      "max_width": null,
      "min_height": null,
      "min_width": null,
      "object_fit": null,
      "object_position": null,
      "order": null,
      "overflow": null,
      "overflow_x": null,
      "overflow_y": null,
      "padding": null,
      "right": null,
      "top": null,
      "visibility": null,
      "width": null
     }
    },
    "e42b916c5b78498aa0a953098f4cd4b0": {
     "model_module": "@jupyter-widgets/base",
     "model_module_version": "1.2.0",
     "model_name": "LayoutModel",
     "state": {
      "_model_module": "@jupyter-widgets/base",
      "_model_module_version": "1.2.0",
      "_model_name": "LayoutModel",
      "_view_count": null,
      "_view_module": "@jupyter-widgets/base",
      "_view_module_version": "1.2.0",
      "_view_name": "LayoutView",
      "align_content": null,
      "align_items": null,
      "align_self": null,
      "border": null,
      "bottom": null,
      "display": null,
      "flex": null,
      "flex_flow": null,
      "grid_area": null,
      "grid_auto_columns": null,
      "grid_auto_flow": null,
      "grid_auto_rows": null,
      "grid_column": null,
      "grid_gap": null,
      "grid_row": null,
      "grid_template_areas": null,
      "grid_template_columns": null,
      "grid_template_rows": null,
      "height": null,
      "justify_content": null,
      "justify_items": null,
      "left": null,
      "margin": null,
      "max_height": null,
      "max_width": null,
      "min_height": null,
      "min_width": null,
      "object_fit": null,
      "object_position": null,
      "order": null,
      "overflow": null,
      "overflow_x": null,
      "overflow_y": null,
      "padding": null,
      "right": null,
      "top": null,
      "visibility": null,
      "width": null
     }
    },
    "e84171064af5468aaa8deaca464c6511": {
     "model_module": "@jupyter-widgets/base",
     "model_module_version": "1.2.0",
     "model_name": "LayoutModel",
     "state": {
      "_model_module": "@jupyter-widgets/base",
      "_model_module_version": "1.2.0",
      "_model_name": "LayoutModel",
      "_view_count": null,
      "_view_module": "@jupyter-widgets/base",
      "_view_module_version": "1.2.0",
      "_view_name": "LayoutView",
      "align_content": null,
      "align_items": null,
      "align_self": null,
      "border": null,
      "bottom": null,
      "display": null,
      "flex": null,
      "flex_flow": null,
      "grid_area": null,
      "grid_auto_columns": null,
      "grid_auto_flow": null,
      "grid_auto_rows": null,
      "grid_column": null,
      "grid_gap": null,
      "grid_row": null,
      "grid_template_areas": null,
      "grid_template_columns": null,
      "grid_template_rows": null,
      "height": null,
      "justify_content": null,
      "justify_items": null,
      "left": null,
      "margin": null,
      "max_height": null,
      "max_width": null,
      "min_height": null,
      "min_width": null,
      "object_fit": null,
      "object_position": null,
      "order": null,
      "overflow": null,
      "overflow_x": null,
      "overflow_y": null,
      "padding": null,
      "right": null,
      "top": null,
      "visibility": null,
      "width": null
     }
    },
    "f0e8efca48bb4254b4696de89d3f2120": {
     "model_module": "@jupyter-widgets/base",
     "model_module_version": "1.2.0",
     "model_name": "LayoutModel",
     "state": {
      "_model_module": "@jupyter-widgets/base",
      "_model_module_version": "1.2.0",
      "_model_name": "LayoutModel",
      "_view_count": null,
      "_view_module": "@jupyter-widgets/base",
      "_view_module_version": "1.2.0",
      "_view_name": "LayoutView",
      "align_content": null,
      "align_items": null,
      "align_self": null,
      "border": null,
      "bottom": null,
      "display": null,
      "flex": null,
      "flex_flow": null,
      "grid_area": null,
      "grid_auto_columns": null,
      "grid_auto_flow": null,
      "grid_auto_rows": null,
      "grid_column": null,
      "grid_gap": null,
      "grid_row": null,
      "grid_template_areas": null,
      "grid_template_columns": null,
      "grid_template_rows": null,
      "height": null,
      "justify_content": null,
      "justify_items": null,
      "left": null,
      "margin": null,
      "max_height": null,
      "max_width": null,
      "min_height": null,
      "min_width": null,
      "object_fit": null,
      "object_position": null,
      "order": null,
      "overflow": null,
      "overflow_x": null,
      "overflow_y": null,
      "padding": null,
      "right": null,
      "top": null,
      "visibility": null,
      "width": null
     }
    },
    "f2d02e06cca84366b3cc257c9770b328": {
     "model_module": "@jupyter-widgets/controls",
     "model_module_version": "1.5.0",
     "model_name": "DescriptionStyleModel",
     "state": {
      "_model_module": "@jupyter-widgets/controls",
      "_model_module_version": "1.5.0",
      "_model_name": "DescriptionStyleModel",
      "_view_count": null,
      "_view_module": "@jupyter-widgets/base",
      "_view_module_version": "1.2.0",
      "_view_name": "StyleView",
      "description_width": ""
     }
    },
    "f8203ca86eea4c4f974eb6152952f2ae": {
     "model_module": "@jupyter-widgets/controls",
     "model_module_version": "1.5.0",
     "model_name": "DescriptionStyleModel",
     "state": {
      "_model_module": "@jupyter-widgets/controls",
      "_model_module_version": "1.5.0",
      "_model_name": "DescriptionStyleModel",
      "_view_count": null,
      "_view_module": "@jupyter-widgets/base",
      "_view_module_version": "1.2.0",
      "_view_name": "StyleView",
      "description_width": ""
     }
    }
   }
  }
 },
 "nbformat": 4,
 "nbformat_minor": 0
}
